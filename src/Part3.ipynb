{
 "cells": [
  {
   "cell_type": "markdown",
   "metadata": {
    "application/vnd.databricks.v1+cell": {
     "inputWidgets": {},
     "nuid": "9990bd6a-0110-433a-92be-0bb722e24909",
     "showTitle": false,
     "title": ""
    }
   },
   "source": [
    "Part 3: Applied Machine Learning"
   ]
  },
  {
   "cell_type": "code",
   "execution_count": 0,
   "metadata": {
    "application/vnd.databricks.v1+cell": {
     "inputWidgets": {},
     "nuid": "f7c08a41-b4a3-4bed-af0a-4cc5f5de7a76",
     "showTitle": false,
     "title": ""
    }
   },
   "outputs": [
    {
     "data": {
      "text/html": [
       "<style scoped>\n",
       "  .ansiout {\n",
       "    display: block;\n",
       "    unicode-bidi: embed;\n",
       "    white-space: pre-wrap;\n",
       "    word-wrap: break-word;\n",
       "    word-break: break-all;\n",
       "    font-family: \"Source Code Pro\", \"Menlo\", monospace;;\n",
       "    font-size: 13px;\n",
       "    color: #555;\n",
       "    margin-left: 4px;\n",
       "    line-height: 19px;\n",
       "  }\n",
       "</style>\n",
       "<div class=\"ansiout\"></div>"
      ]
     },
     "metadata": {
      "application/vnd.databricks.v1+output": {
       "addedWidgets": {},
       "arguments": {},
       "data": "<div class=\"ansiout\"></div>",
       "datasetInfos": [],
       "removedWidgets": [],
       "type": "html"
      }
     },
     "output_type": "display_data"
    }
   ],
   "source": [
    "# Import necessary packages and modules\n",
    "\n",
    "import time\n",
    "import pandas as pd\n",
    "import numpy as np\n",
    "import datetime as datetime\n",
    "from datetime import timedelta\n",
    "import databricks.koalas as ks\n",
    "import matplotlib.pyplot as plt\n",
    "import seaborn as sns\n",
    "from pyspark.ml.stat import Correlation\n",
    "import pyspark.sql.functions as f\n",
    "from pyspark.sql.functions import *"
   ]
  },
  {
   "cell_type": "markdown",
   "metadata": {},
   "source": [
    "Task 1\n",
    "With this fitted model we can predict on the training data and convince ourselves that the model works."
   ]
  },
  {
   "cell_type": "code",
   "execution_count": 0,
   "metadata": {
    "application/vnd.databricks.v1+cell": {
     "inputWidgets": {},
     "nuid": "50414e02-dceb-475c-906f-43597bd4e8f0",
     "showTitle": false,
     "title": ""
    }
   },
   "outputs": [
    {
     "data": {
      "text/html": [
       "<div>\n",
       "<style scoped>\n",
       "    .dataframe tbody tr th:only-of-type {\n",
       "        vertical-align: middle;\n",
       "    }\n",
       "\n",
       "    .dataframe tbody tr th {\n",
       "        vertical-align: top;\n",
       "    }\n",
       "\n",
       "    .dataframe thead th {\n",
       "        text-align: right;\n",
       "    }\n",
       "</style>\n",
       "<table border=\"1\" class=\"dataframe\">\n",
       "  <thead>\n",
       "    <tr style=\"text-align: right;\">\n",
       "      <th></th>\n",
       "      <th>sepal_length</th>\n",
       "      <th>sepal_width</th>\n",
       "      <th>petal_length</th>\n",
       "      <th>petal_width</th>\n",
       "      <th>class</th>\n",
       "    </tr>\n",
       "  </thead>\n",
       "  <tbody>\n",
       "    <tr>\n",
       "      <th>0</th>\n",
       "      <td>5.1</td>\n",
       "      <td>3.5</td>\n",
       "      <td>1.4</td>\n",
       "      <td>0.2</td>\n",
       "      <td>Iris-setosa</td>\n",
       "    </tr>\n",
       "    <tr>\n",
       "      <th>1</th>\n",
       "      <td>4.9</td>\n",
       "      <td>3.0</td>\n",
       "      <td>1.4</td>\n",
       "      <td>0.2</td>\n",
       "      <td>Iris-setosa</td>\n",
       "    </tr>\n",
       "    <tr>\n",
       "      <th>2</th>\n",
       "      <td>4.7</td>\n",
       "      <td>3.2</td>\n",
       "      <td>1.3</td>\n",
       "      <td>0.2</td>\n",
       "      <td>Iris-setosa</td>\n",
       "    </tr>\n",
       "    <tr>\n",
       "      <th>3</th>\n",
       "      <td>4.6</td>\n",
       "      <td>3.1</td>\n",
       "      <td>1.5</td>\n",
       "      <td>0.2</td>\n",
       "      <td>Iris-setosa</td>\n",
       "    </tr>\n",
       "    <tr>\n",
       "      <th>4</th>\n",
       "      <td>5.0</td>\n",
       "      <td>3.6</td>\n",
       "      <td>1.4</td>\n",
       "      <td>0.2</td>\n",
       "      <td>Iris-setosa</td>\n",
       "    </tr>\n",
       "  </tbody>\n",
       "</table>\n",
       "</div>"
      ]
     },
     "metadata": {
      "application/vnd.databricks.v1+output": {
       "addedWidgets": {},
       "arguments": {},
       "data": "<div>\n<style scoped>\n    .dataframe tbody tr th:only-of-type {\n        vertical-align: middle;\n    }\n\n    .dataframe tbody tr th {\n        vertical-align: top;\n    }\n\n    .dataframe thead th {\n        text-align: right;\n    }\n</style>\n<table border=\"1\" class=\"dataframe\">\n  <thead>\n    <tr style=\"text-align: right;\">\n      <th></th>\n      <th>sepal_length</th>\n      <th>sepal_width</th>\n      <th>petal_length</th>\n      <th>petal_width</th>\n      <th>class</th>\n    </tr>\n  </thead>\n  <tbody>\n    <tr>\n      <th>0</th>\n      <td>5.1</td>\n      <td>3.5</td>\n      <td>1.4</td>\n      <td>0.2</td>\n      <td>Iris-setosa</td>\n    </tr>\n    <tr>\n      <th>1</th>\n      <td>4.9</td>\n      <td>3.0</td>\n      <td>1.4</td>\n      <td>0.2</td>\n      <td>Iris-setosa</td>\n    </tr>\n    <tr>\n      <th>2</th>\n      <td>4.7</td>\n      <td>3.2</td>\n      <td>1.3</td>\n      <td>0.2</td>\n      <td>Iris-setosa</td>\n    </tr>\n    <tr>\n      <th>3</th>\n      <td>4.6</td>\n      <td>3.1</td>\n      <td>1.5</td>\n      <td>0.2</td>\n      <td>Iris-setosa</td>\n    </tr>\n    <tr>\n      <th>4</th>\n      <td>5.0</td>\n      <td>3.6</td>\n      <td>1.4</td>\n      <td>0.2</td>\n      <td>Iris-setosa</td>\n    </tr>\n  </tbody>\n</table>\n</div>",
       "datasetInfos": [],
       "removedWidgets": [],
       "textData": "<div class=\"ansiout\">Out[145]: </div>",
       "type": "htmlSandbox"
      }
     },
     "output_type": "display_data"
    }
   ],
   "source": [
    "import numpy as np \n",
    "import pandas as pd \n",
    "from sklearn.linear_model import LogisticRegression\n",
    "df = pd.read_csv(\"/test/iris.csv\", names = [\"sepal_length\", \"sepal_width\", \"petal_length\", \"petal_width\", \"class\"])\n",
    "df.head()"
   ]
  },
  {
   "cell_type": "code",
   "execution_count": 0,
   "metadata": {
    "application/vnd.databricks.v1+cell": {
     "inputWidgets": {},
     "nuid": "382ed545-0985-4c06-80e2-053c220999d1",
     "showTitle": false,
     "title": ""
    }
   },
   "outputs": [
    {
     "data": {
      "text/html": [
       "<style scoped>\n",
       "  .ansiout {\n",
       "    display: block;\n",
       "    unicode-bidi: embed;\n",
       "    white-space: pre-wrap;\n",
       "    word-wrap: break-word;\n",
       "    word-break: break-all;\n",
       "    font-family: \"Source Code Pro\", \"Menlo\", monospace;;\n",
       "    font-size: 13px;\n",
       "    color: #555;\n",
       "    margin-left: 4px;\n",
       "    line-height: 19px;\n",
       "  }\n",
       "</style>\n",
       "<div class=\"ansiout\">Out[147]: LogisticRegression(C=100000.0, class_weight=None, dual=False,\n",
       "                   fit_intercept=True, intercept_scaling=1, l1_ratio=None,\n",
       "                   max_iter=100, multi_class=&#39;auto&#39;, n_jobs=None, penalty=&#39;l2&#39;,\n",
       "                   random_state=None, solver=&#39;lbfgs&#39;, tol=0.0001, verbose=0,\n",
       "                   warm_start=False)</div>"
      ]
     },
     "metadata": {
      "application/vnd.databricks.v1+output": {
       "addedWidgets": {},
       "arguments": {},
       "data": "<div class=\"ansiout\">Out[147]: LogisticRegression(C=100000.0, class_weight=None, dual=False,\n                   fit_intercept=True, intercept_scaling=1, l1_ratio=None,\n                   max_iter=100, multi_class=&#39;auto&#39;, n_jobs=None, penalty=&#39;l2&#39;,\n                   random_state=None, solver=&#39;lbfgs&#39;, tol=0.0001, verbose=0,\n                   warm_start=False)</div>",
       "datasetInfos": [],
       "removedWidgets": [],
       "type": "html"
      }
     },
     "output_type": "display_data"
    }
   ],
   "source": [
    "# Separate features from class. \n",
    "array = df.values \n",
    "X = array[:,0:4] \n",
    "y = array[:,4]\n",
    "# Fit Logistic Regression classifier. \n",
    "logreg = LogisticRegression(C=1e5) \n",
    "logreg.fit(X, y)"
   ]
  },
  {
   "cell_type": "code",
   "execution_count": 0,
   "metadata": {
    "application/vnd.databricks.v1+cell": {
     "inputWidgets": {},
     "nuid": "b3a3ed21-7f10-465c-ae4c-7a9d29796ae4",
     "showTitle": false,
     "title": ""
    }
   },
   "outputs": [
    {
     "data": {
      "text/html": [
       "<style scoped>\n",
       "  .ansiout {\n",
       "    display: block;\n",
       "    unicode-bidi: embed;\n",
       "    white-space: pre-wrap;\n",
       "    word-wrap: break-word;\n",
       "    word-break: break-all;\n",
       "    font-family: \"Source Code Pro\", \"Menlo\", monospace;;\n",
       "    font-size: 13px;\n",
       "    color: #555;\n",
       "    margin-left: 4px;\n",
       "    line-height: 19px;\n",
       "  }\n",
       "</style>\n",
       "<div class=\"ansiout\">[&#39;Iris-setosa&#39;]\n",
       "[&#39;Iris-virginica&#39;]\n",
       "</div>"
      ]
     },
     "metadata": {
      "application/vnd.databricks.v1+output": {
       "addedWidgets": {},
       "arguments": {},
       "data": "<div class=\"ansiout\">[&#39;Iris-setosa&#39;]\n[&#39;Iris-virginica&#39;]\n</div>",
       "datasetInfos": [],
       "removedWidgets": [],
       "type": "html"
      }
     },
     "output_type": "display_data"
    }
   ],
   "source": [
    "# Predict on training data. Seems to work. # 5.1     3.5     1.4     0.2     Iris-setosa # 6.2     3.4     5.4     2.3     Iris-virginica\n",
    "print(logreg.predict([[5.1, 3.5, 1.4, 0.2]])) \n",
    "print(logreg.predict([[6.2, 3.4, 5.4, 2.3]]))"
   ]
  },
  {
   "cell_type": "code",
   "execution_count": 0,
   "metadata": {
    "application/vnd.databricks.v1+cell": {
     "inputWidgets": {},
     "nuid": "b472dee1-911e-4a8e-96d6-8fb3da20617e",
     "showTitle": false,
     "title": ""
    }
   },
   "outputs": [
    {
     "data": {
      "text/html": [
       "<style scoped>\n",
       "  .ansiout {\n",
       "    display: block;\n",
       "    unicode-bidi: embed;\n",
       "    white-space: pre-wrap;\n",
       "    word-wrap: break-word;\n",
       "    word-break: break-all;\n",
       "    font-family: \"Source Code Pro\", \"Menlo\", monospace;;\n",
       "    font-size: 13px;\n",
       "    color: #555;\n",
       "    margin-left: 4px;\n",
       "    line-height: 19px;\n",
       "  }\n",
       "</style>\n",
       "<div class=\"ansiout\"></div>"
      ]
     },
     "metadata": {
      "application/vnd.databricks.v1+output": {
       "addedWidgets": {},
       "arguments": {},
       "data": "<div class=\"ansiout\"></div>",
       "datasetInfos": [
        {
         "name": "pred_data",
         "schema": {
          "fields": [
           {
            "metadata": {},
            "name": "sepal_length",
            "nullable": true,
            "type": "double"
           },
           {
            "metadata": {},
            "name": "sepal_width",
            "nullable": true,
            "type": "double"
           },
           {
            "metadata": {},
            "name": "petal_length",
            "nullable": true,
            "type": "double"
           },
           {
            "metadata": {},
            "name": "petal_width",
            "nullable": true,
            "type": "double"
           }
          ],
          "type": "struct"
         },
         "tableIdentifier": null,
         "typeStr": "pyspark.sql.dataframe.DataFrame"
        }
       ],
       "removedWidgets": [],
       "type": "html"
      }
     },
     "output_type": "display_data"
    }
   ],
   "source": [
    "pred_data = spark.createDataFrame(    [(5.1, 3.5, 1.4, 0.2),      (6.2, 3.4, 5.4, 2.3)],    [\"sepal_length\", \"sepal_width\", \"petal_length\", \"petal_width\"])"
   ]
  },
  {
   "cell_type": "code",
   "execution_count": 0,
   "metadata": {
    "application/vnd.databricks.v1+cell": {
     "inputWidgets": {},
     "nuid": "ba6d58bd-def8-4b8e-a357-1b2c18b7ca8b",
     "showTitle": false,
     "title": ""
    }
   },
   "outputs": [
    {
     "data": {
      "text/html": [
       "<style scoped>\n",
       "  .ansiout {\n",
       "    display: block;\n",
       "    unicode-bidi: embed;\n",
       "    white-space: pre-wrap;\n",
       "    word-wrap: break-word;\n",
       "    word-break: break-all;\n",
       "    font-family: \"Source Code Pro\", \"Menlo\", monospace;;\n",
       "    font-size: 13px;\n",
       "    color: #555;\n",
       "    margin-left: 4px;\n",
       "    line-height: 19px;\n",
       "  }\n",
       "</style>\n",
       "<div class=\"ansiout\">Out[229]: [(&#39;sepal_length&#39;, &#39;double&#39;),\n",
       " (&#39;sepal_width&#39;, &#39;double&#39;),\n",
       " (&#39;petal_length&#39;, &#39;double&#39;),\n",
       " (&#39;petal_width&#39;, &#39;double&#39;)]</div>"
      ]
     },
     "metadata": {
      "application/vnd.databricks.v1+output": {
       "addedWidgets": {},
       "arguments": {},
       "data": "<div class=\"ansiout\">Out[229]: [(&#39;sepal_length&#39;, &#39;double&#39;),\n (&#39;sepal_width&#39;, &#39;double&#39;),\n (&#39;petal_length&#39;, &#39;double&#39;),\n (&#39;petal_width&#39;, &#39;double&#39;)]</div>",
       "datasetInfos": [],
       "removedWidgets": [],
       "type": "html"
      }
     },
     "output_type": "display_data"
    }
   ],
   "source": [
    "pred_data.dtypes"
   ]
  },
  {
   "cell_type": "markdown",
   "metadata": {},
   "source": [
    "Task 2\n",
    "Implement a Spark version of the above Python code and demonstrate that you can correctly predict on the training data, similar to what was done in the preceding section.\n"
   ]
  },
  {
   "cell_type": "code",
   "execution_count": 0,
   "metadata": {
    "application/vnd.databricks.v1+cell": {
     "inputWidgets": {},
     "nuid": "f2fb002e-0764-4df2-a7a3-ac77277f651e",
     "showTitle": false,
     "title": ""
    }
   },
   "outputs": [
    {
     "data": {
      "text/html": [
       "<style scoped>\n",
       "  .ansiout {\n",
       "    display: block;\n",
       "    unicode-bidi: embed;\n",
       "    white-space: pre-wrap;\n",
       "    word-wrap: break-word;\n",
       "    word-break: break-all;\n",
       "    font-family: \"Source Code Pro\", \"Menlo\", monospace;;\n",
       "    font-size: 13px;\n",
       "    color: #555;\n",
       "    margin-left: 4px;\n",
       "    line-height: 19px;\n",
       "  }\n",
       "</style>\n",
       "<div class=\"ansiout\">Out[221]: Row(_c0=&#39;5.1&#39;, _c1=&#39;3.5&#39;, _c2=&#39;1.4&#39;, _c3=&#39;0.2&#39;, _c4=&#39;Iris-setosa&#39;)</div>"
      ]
     },
     "metadata": {
      "application/vnd.databricks.v1+output": {
       "addedWidgets": {},
       "arguments": {},
       "data": "<div class=\"ansiout\">Out[221]: Row(_c0=&#39;5.1&#39;, _c1=&#39;3.5&#39;, _c2=&#39;1.4&#39;, _c3=&#39;0.2&#39;, _c4=&#39;Iris-setosa&#39;)</div>",
       "datasetInfos": [
        {
         "name": "df_spk",
         "schema": {
          "fields": [
           {
            "metadata": {},
            "name": "_c0",
            "nullable": true,
            "type": "string"
           },
           {
            "metadata": {},
            "name": "_c1",
            "nullable": true,
            "type": "string"
           },
           {
            "metadata": {},
            "name": "_c2",
            "nullable": true,
            "type": "string"
           },
           {
            "metadata": {},
            "name": "_c3",
            "nullable": true,
            "type": "string"
           },
           {
            "metadata": {},
            "name": "_c4",
            "nullable": true,
            "type": "string"
           }
          ],
          "type": "struct"
         },
         "tableIdentifier": null,
         "typeStr": "pyspark.sql.dataframe.DataFrame"
        }
       ],
       "removedWidgets": [],
       "type": "html"
      }
     },
     "output_type": "display_data"
    }
   ],
   "source": [
    "df_spk = spark.read.csv(\"/test/iris.csv\")\n",
    "df_spk.head()\n",
    "#df = sqlContext.read.csv(\"/path/to/your.csv\")"
   ]
  },
  {
   "cell_type": "code",
   "execution_count": 0,
   "metadata": {
    "application/vnd.databricks.v1+cell": {
     "inputWidgets": {},
     "nuid": "ad25d120-d2a5-4a62-bdb1-fa447dcd0eef",
     "showTitle": false,
     "title": ""
    }
   },
   "outputs": [
    {
     "data": {
      "text/html": [
       "<style scoped>\n",
       "  .ansiout {\n",
       "    display: block;\n",
       "    unicode-bidi: embed;\n",
       "    white-space: pre-wrap;\n",
       "    word-wrap: break-word;\n",
       "    word-break: break-all;\n",
       "    font-family: \"Source Code Pro\", \"Menlo\", monospace;;\n",
       "    font-size: 13px;\n",
       "    color: #555;\n",
       "    margin-left: 4px;\n",
       "    line-height: 19px;\n",
       "  }\n",
       "</style>\n",
       "<div class=\"ansiout\">+------------+-----------+------------+-----------+-----------+\n",
       "sepal_length|sepal_width|petal_length|petal_width|      class|\n",
       "+------------+-----------+------------+-----------+-----------+\n",
       "         5.1|        3.5|         1.4|        0.2|Iris-setosa|\n",
       "         4.9|        3.0|         1.4|        0.2|Iris-setosa|\n",
       "         4.7|        3.2|         1.3|        0.2|Iris-setosa|\n",
       "         4.6|        3.1|         1.5|        0.2|Iris-setosa|\n",
       "         5.0|        3.6|         1.4|        0.2|Iris-setosa|\n",
       "         5.4|        3.9|         1.7|        0.4|Iris-setosa|\n",
       "         4.6|        3.4|         1.4|        0.3|Iris-setosa|\n",
       "         5.0|        3.4|         1.5|        0.2|Iris-setosa|\n",
       "         4.4|        2.9|         1.4|        0.2|Iris-setosa|\n",
       "         4.9|        3.1|         1.5|        0.1|Iris-setosa|\n",
       "         5.4|        3.7|         1.5|        0.2|Iris-setosa|\n",
       "         4.8|        3.4|         1.6|        0.2|Iris-setosa|\n",
       "         4.8|        3.0|         1.4|        0.1|Iris-setosa|\n",
       "         4.3|        3.0|         1.1|        0.1|Iris-setosa|\n",
       "         5.8|        4.0|         1.2|        0.2|Iris-setosa|\n",
       "         5.7|        4.4|         1.5|        0.4|Iris-setosa|\n",
       "         5.4|        3.9|         1.3|        0.4|Iris-setosa|\n",
       "         5.1|        3.5|         1.4|        0.3|Iris-setosa|\n",
       "         5.7|        3.8|         1.7|        0.3|Iris-setosa|\n",
       "         5.1|        3.8|         1.5|        0.3|Iris-setosa|\n",
       "+------------+-----------+------------+-----------+-----------+\n",
       "only showing top 20 rows\n",
       "\n",
       "</div>"
      ]
     },
     "metadata": {
      "application/vnd.databricks.v1+output": {
       "addedWidgets": {},
       "arguments": {},
       "data": "<div class=\"ansiout\">+------------+-----------+------------+-----------+-----------+\n|sepal_length|sepal_width|petal_length|petal_width|      class|\n+------------+-----------+------------+-----------+-----------+\n|         5.1|        3.5|         1.4|        0.2|Iris-setosa|\n|         4.9|        3.0|         1.4|        0.2|Iris-setosa|\n|         4.7|        3.2|         1.3|        0.2|Iris-setosa|\n|         4.6|        3.1|         1.5|        0.2|Iris-setosa|\n|         5.0|        3.6|         1.4|        0.2|Iris-setosa|\n|         5.4|        3.9|         1.7|        0.4|Iris-setosa|\n|         4.6|        3.4|         1.4|        0.3|Iris-setosa|\n|         5.0|        3.4|         1.5|        0.2|Iris-setosa|\n|         4.4|        2.9|         1.4|        0.2|Iris-setosa|\n|         4.9|        3.1|         1.5|        0.1|Iris-setosa|\n|         5.4|        3.7|         1.5|        0.2|Iris-setosa|\n|         4.8|        3.4|         1.6|        0.2|Iris-setosa|\n|         4.8|        3.0|         1.4|        0.1|Iris-setosa|\n|         4.3|        3.0|         1.1|        0.1|Iris-setosa|\n|         5.8|        4.0|         1.2|        0.2|Iris-setosa|\n|         5.7|        4.4|         1.5|        0.4|Iris-setosa|\n|         5.4|        3.9|         1.3|        0.4|Iris-setosa|\n|         5.1|        3.5|         1.4|        0.3|Iris-setosa|\n|         5.7|        3.8|         1.7|        0.3|Iris-setosa|\n|         5.1|        3.8|         1.5|        0.3|Iris-setosa|\n+------------+-----------+------------+-----------+-----------+\nonly showing top 20 rows\n\n</div>",
       "datasetInfos": [
        {
         "name": "df_spk",
         "schema": {
          "fields": [
           {
            "metadata": {},
            "name": "sepal_length",
            "nullable": true,
            "type": "string"
           },
           {
            "metadata": {},
            "name": "sepal_width",
            "nullable": true,
            "type": "string"
           },
           {
            "metadata": {},
            "name": "petal_length",
            "nullable": true,
            "type": "string"
           },
           {
            "metadata": {},
            "name": "petal_width",
            "nullable": true,
            "type": "string"
           },
           {
            "metadata": {},
            "name": "class",
            "nullable": true,
            "type": "string"
           }
          ],
          "type": "struct"
         },
         "tableIdentifier": null,
         "typeStr": "pyspark.sql.dataframe.DataFrame"
        }
       ],
       "removedWidgets": [],
       "type": "html"
      }
     },
     "output_type": "display_data"
    }
   ],
   "source": [
    "from pyspark.sql.functions import col\n",
    "\n",
    "df_spk = df_spk.select(col(\"_c0\").alias(\"sepal_length\"), col(\"_c1\").alias(\"sepal_width\"), col(\"_c2\").alias(\"petal_length\"), col(\"_c3\").alias(\"petal_width\"), col(\"_c4\").alias(\"class\"))\n",
    "df_spk.show()"
   ]
  },
  {
   "cell_type": "code",
   "execution_count": 0,
   "metadata": {
    "application/vnd.databricks.v1+cell": {
     "inputWidgets": {},
     "nuid": "153e9381-2c4e-416f-8bc6-0df4f138382c",
     "showTitle": false,
     "title": ""
    }
   },
   "outputs": [
    {
     "data": {
      "text/html": [
       "<style scoped>\n",
       "  .ansiout {\n",
       "    display: block;\n",
       "    unicode-bidi: embed;\n",
       "    white-space: pre-wrap;\n",
       "    word-wrap: break-word;\n",
       "    word-break: break-all;\n",
       "    font-family: \"Source Code Pro\", \"Menlo\", monospace;;\n",
       "    font-size: 13px;\n",
       "    color: #555;\n",
       "    margin-left: 4px;\n",
       "    line-height: 19px;\n",
       "  }\n",
       "</style>\n",
       "<div class=\"ansiout\"></div>"
      ]
     },
     "metadata": {
      "application/vnd.databricks.v1+output": {
       "addedWidgets": {},
       "arguments": {},
       "data": "<div class=\"ansiout\"></div>",
       "datasetInfos": [],
       "removedWidgets": [],
       "type": "html"
      }
     },
     "output_type": "display_data"
    }
   ],
   "source": [
    "feature_cols = df_spk.columns[:-1]"
   ]
  },
  {
   "cell_type": "code",
   "execution_count": 0,
   "metadata": {
    "application/vnd.databricks.v1+cell": {
     "inputWidgets": {},
     "nuid": "d49b686b-b539-4674-bf47-52cbb7a69c17",
     "showTitle": false,
     "title": ""
    }
   },
   "outputs": [
    {
     "data": {
      "text/html": [
       "<style scoped>\n",
       "  .ansiout {\n",
       "    display: block;\n",
       "    unicode-bidi: embed;\n",
       "    white-space: pre-wrap;\n",
       "    word-wrap: break-word;\n",
       "    word-break: break-all;\n",
       "    font-family: \"Source Code Pro\", \"Menlo\", monospace;;\n",
       "    font-size: 13px;\n",
       "    color: #555;\n",
       "    margin-left: 4px;\n",
       "    line-height: 19px;\n",
       "  }\n",
       "</style>\n",
       "<div class=\"ansiout\"></div>"
      ]
     },
     "metadata": {
      "application/vnd.databricks.v1+output": {
       "addedWidgets": {},
       "arguments": {},
       "data": "<div class=\"ansiout\"></div>",
       "datasetInfos": [
        {
         "name": "df_spk",
         "schema": {
          "fields": [
           {
            "metadata": {},
            "name": "sepal_length",
            "nullable": true,
            "type": "float"
           },
           {
            "metadata": {},
            "name": "sepal_width",
            "nullable": true,
            "type": "float"
           },
           {
            "metadata": {},
            "name": "petal_length",
            "nullable": true,
            "type": "float"
           },
           {
            "metadata": {},
            "name": "petal_width",
            "nullable": true,
            "type": "float"
           },
           {
            "metadata": {},
            "name": "class",
            "nullable": true,
            "type": "string"
           }
          ],
          "type": "struct"
         },
         "tableIdentifier": null,
         "typeStr": "pyspark.sql.dataframe.DataFrame"
        }
       ],
       "removedWidgets": [],
       "type": "html"
      }
     },
     "output_type": "display_data"
    }
   ],
   "source": [
    "#df_spk.dtypes\n",
    "df_spk = df_spk.select(df_spk.sepal_length.cast(\"float\"),\n",
    "df_spk.sepal_width.cast(\"float\"),\n",
    "df_spk.petal_length.cast(\"float\"),\n",
    "df_spk.petal_width.cast(\"float\"),\n",
    "df_spk['class'] )                    "
   ]
  },
  {
   "cell_type": "code",
   "execution_count": 0,
   "metadata": {
    "application/vnd.databricks.v1+cell": {
     "inputWidgets": {},
     "nuid": "2165b039-5b8b-4933-8abc-dfac11994489",
     "showTitle": false,
     "title": ""
    }
   },
   "outputs": [
    {
     "data": {
      "text/html": [
       "<style scoped>\n",
       "  .ansiout {\n",
       "    display: block;\n",
       "    unicode-bidi: embed;\n",
       "    white-space: pre-wrap;\n",
       "    word-wrap: break-word;\n",
       "    word-break: break-all;\n",
       "    font-family: \"Source Code Pro\", \"Menlo\", monospace;;\n",
       "    font-size: 13px;\n",
       "    color: #555;\n",
       "    margin-left: 4px;\n",
       "    line-height: 19px;\n",
       "  }\n",
       "</style>\n",
       "<div class=\"ansiout\"></div>"
      ]
     },
     "metadata": {
      "application/vnd.databricks.v1+output": {
       "addedWidgets": {},
       "arguments": {},
       "data": "<div class=\"ansiout\"></div>",
       "datasetInfos": [
        {
         "name": "data",
         "schema": {
          "fields": [
           {
            "metadata": {},
            "name": "sepal_length",
            "nullable": true,
            "type": "float"
           },
           {
            "metadata": {},
            "name": "sepal_width",
            "nullable": true,
            "type": "float"
           },
           {
            "metadata": {},
            "name": "petal_length",
            "nullable": true,
            "type": "float"
           },
           {
            "metadata": {},
            "name": "petal_width",
            "nullable": true,
            "type": "float"
           },
           {
            "metadata": {},
            "name": "class",
            "nullable": true,
            "type": "string"
           },
           {
            "metadata": {
             "ml_attr": {
              "attrs": {
               "numeric": [
                {
                 "idx": 0,
                 "name": "sepal_length"
                },
                {
                 "idx": 1,
                 "name": "sepal_width"
                },
                {
                 "idx": 2,
                 "name": "petal_length"
                },
                {
                 "idx": 3,
                 "name": "petal_width"
                }
               ]
              },
              "num_attrs": 4
             }
            },
            "name": "features",
            "nullable": true,
            "type": {
             "class": "org.apache.spark.ml.linalg.VectorUDT",
             "pyClass": "pyspark.ml.linalg.VectorUDT",
             "sqlType": {
              "fields": [
               {
                "metadata": {},
                "name": "type",
                "nullable": false,
                "type": "byte"
               },
               {
                "metadata": {},
                "name": "size",
                "nullable": true,
                "type": "integer"
               },
               {
                "metadata": {},
                "name": "indices",
                "nullable": true,
                "type": {
                 "containsNull": false,
                 "elementType": "integer",
                 "type": "array"
                }
               },
               {
                "metadata": {},
                "name": "values",
                "nullable": true,
                "type": {
                 "containsNull": false,
                 "elementType": "double",
                 "type": "array"
                }
               }
              ],
              "type": "struct"
             },
             "type": "udt"
            }
           }
          ],
          "type": "struct"
         },
         "tableIdentifier": null,
         "typeStr": "pyspark.sql.dataframe.DataFrame"
        },
        {
         "name": "test_data",
         "schema": {
          "fields": [
           {
            "metadata": {},
            "name": "sepal_length",
            "nullable": true,
            "type": "double"
           },
           {
            "metadata": {},
            "name": "sepal_width",
            "nullable": true,
            "type": "double"
           },
           {
            "metadata": {},
            "name": "petal_length",
            "nullable": true,
            "type": "double"
           },
           {
            "metadata": {},
            "name": "petal_width",
            "nullable": true,
            "type": "double"
           },
           {
            "metadata": {
             "ml_attr": {
              "attrs": {
               "numeric": [
                {
                 "idx": 0,
                 "name": "sepal_length"
                },
                {
                 "idx": 1,
                 "name": "sepal_width"
                },
                {
                 "idx": 2,
                 "name": "petal_length"
                },
                {
                 "idx": 3,
                 "name": "petal_width"
                }
               ]
              },
              "num_attrs": 4
             }
            },
            "name": "features",
            "nullable": true,
            "type": {
             "class": "org.apache.spark.ml.linalg.VectorUDT",
             "pyClass": "pyspark.ml.linalg.VectorUDT",
             "sqlType": {
              "fields": [
               {
                "metadata": {},
                "name": "type",
                "nullable": false,
                "type": "byte"
               },
               {
                "metadata": {},
                "name": "size",
                "nullable": true,
                "type": "integer"
               },
               {
                "metadata": {},
                "name": "indices",
                "nullable": true,
                "type": {
                 "containsNull": false,
                 "elementType": "integer",
                 "type": "array"
                }
               },
               {
                "metadata": {},
                "name": "values",
                "nullable": true,
                "type": {
                 "containsNull": false,
                 "elementType": "double",
                 "type": "array"
                }
               }
              ],
              "type": "struct"
             },
             "type": "udt"
            }
           }
          ],
          "type": "struct"
         },
         "tableIdentifier": null,
         "typeStr": "pyspark.sql.dataframe.DataFrame"
        }
       ],
       "removedWidgets": [],
       "type": "html"
      }
     },
     "output_type": "display_data"
    }
   ],
   "source": [
    "# vectorize all numerical columns into a single feature column\n",
    "feature_cols = df_spk.columns[:-1]\n",
    "assembler = pyspark.ml.feature.VectorAssembler(inputCols=feature_cols, outputCol='features')\n",
    "data = assembler.transform(df_spk)\n",
    "test_data = assembler.transform(pred_data)"
   ]
  },
  {
   "cell_type": "code",
   "execution_count": 0,
   "metadata": {
    "application/vnd.databricks.v1+cell": {
     "inputWidgets": {},
     "nuid": "395af1a6-ed96-4bca-b1fe-59c491bc6487",
     "showTitle": false,
     "title": ""
    }
   },
   "outputs": [
    {
     "data": {
      "text/html": [
       "<style scoped>\n",
       "  .ansiout {\n",
       "    display: block;\n",
       "    unicode-bidi: embed;\n",
       "    white-space: pre-wrap;\n",
       "    word-wrap: break-word;\n",
       "    word-break: break-all;\n",
       "    font-family: \"Source Code Pro\", \"Menlo\", monospace;;\n",
       "    font-size: 13px;\n",
       "    color: #555;\n",
       "    margin-left: 4px;\n",
       "    line-height: 19px;\n",
       "  }\n",
       "</style>\n",
       "<div class=\"ansiout\"></div>"
      ]
     },
     "metadata": {
      "application/vnd.databricks.v1+output": {
       "addedWidgets": {},
       "arguments": {},
       "data": "<div class=\"ansiout\"></div>",
       "datasetInfos": [
        {
         "name": "data",
         "schema": {
          "fields": [
           {
            "metadata": {
             "ml_attr": {
              "attrs": {
               "numeric": [
                {
                 "idx": 0,
                 "name": "sepal_length"
                },
                {
                 "idx": 1,
                 "name": "sepal_width"
                },
                {
                 "idx": 2,
                 "name": "petal_length"
                },
                {
                 "idx": 3,
                 "name": "petal_width"
                }
               ]
              },
              "num_attrs": 4
             }
            },
            "name": "features",
            "nullable": true,
            "type": {
             "class": "org.apache.spark.ml.linalg.VectorUDT",
             "pyClass": "pyspark.ml.linalg.VectorUDT",
             "sqlType": {
              "fields": [
               {
                "metadata": {},
                "name": "type",
                "nullable": false,
                "type": "byte"
               },
               {
                "metadata": {},
                "name": "size",
                "nullable": true,
                "type": "integer"
               },
               {
                "metadata": {},
                "name": "indices",
                "nullable": true,
                "type": {
                 "containsNull": false,
                 "elementType": "integer",
                 "type": "array"
                }
               },
               {
                "metadata": {},
                "name": "values",
                "nullable": true,
                "type": {
                 "containsNull": false,
                 "elementType": "double",
                 "type": "array"
                }
               }
              ],
              "type": "struct"
             },
             "type": "udt"
            }
           },
           {
            "metadata": {},
            "name": "class",
            "nullable": true,
            "type": "string"
           },
           {
            "metadata": {
             "ml_attr": {
              "name": "label",
              "type": "nominal",
              "vals": [
               "Iris-setosa",
               "Iris-versicolor",
               "Iris-virginica"
              ]
             }
            },
            "name": "label",
            "nullable": false,
            "type": "double"
           }
          ],
          "type": "struct"
         },
         "tableIdentifier": null,
         "typeStr": "pyspark.sql.dataframe.DataFrame"
        }
       ],
       "removedWidgets": [],
       "type": "html"
      }
     },
     "output_type": "display_data"
    }
   ],
   "source": [
    "\n",
    "# convert text labels into indices\n",
    "data = data.select(['features', 'class'])\n",
    "label_indexer = pyspark.ml.feature.StringIndexer(inputCol='class', outputCol='label').fit(data)\n",
    "data = label_indexer.transform(data)"
   ]
  },
  {
   "cell_type": "code",
   "execution_count": 0,
   "metadata": {
    "application/vnd.databricks.v1+cell": {
     "inputWidgets": {},
     "nuid": "d96e9ccb-3211-4b6b-af39-caa05dc5750b",
     "showTitle": false,
     "title": ""
    }
   },
   "outputs": [
    {
     "data": {
      "text/html": [
       "<style scoped>\n",
       "  .ansiout {\n",
       "    display: block;\n",
       "    unicode-bidi: embed;\n",
       "    white-space: pre-wrap;\n",
       "    word-wrap: break-word;\n",
       "    word-break: break-all;\n",
       "    font-family: \"Source Code Pro\", \"Menlo\", monospace;;\n",
       "    font-size: 13px;\n",
       "    color: #555;\n",
       "    margin-left: 4px;\n",
       "    line-height: 19px;\n",
       "  }\n",
       "</style>\n",
       "<div class=\"ansiout\"></div>"
      ]
     },
     "metadata": {
      "application/vnd.databricks.v1+output": {
       "addedWidgets": {},
       "arguments": {},
       "data": "<div class=\"ansiout\"></div>",
       "datasetInfos": [
        {
         "name": "data_with_original_label",
         "schema": {
          "fields": [
           {
            "metadata": {
             "ml_attr": {
              "attrs": {
               "numeric": [
                {
                 "idx": 0,
                 "name": "sepal_length"
                },
                {
                 "idx": 1,
                 "name": "sepal_width"
                },
                {
                 "idx": 2,
                 "name": "petal_length"
                },
                {
                 "idx": 3,
                 "name": "petal_width"
                }
               ]
              },
              "num_attrs": 4
             }
            },
            "name": "features",
            "nullable": true,
            "type": {
             "class": "org.apache.spark.ml.linalg.VectorUDT",
             "pyClass": "pyspark.ml.linalg.VectorUDT",
             "sqlType": {
              "fields": [
               {
                "metadata": {},
                "name": "type",
                "nullable": false,
                "type": "byte"
               },
               {
                "metadata": {},
                "name": "size",
                "nullable": true,
                "type": "integer"
               },
               {
                "metadata": {},
                "name": "indices",
                "nullable": true,
                "type": {
                 "containsNull": false,
                 "elementType": "integer",
                 "type": "array"
                }
               },
               {
                "metadata": {},
                "name": "values",
                "nullable": true,
                "type": {
                 "containsNull": false,
                 "elementType": "double",
                 "type": "array"
                }
               }
              ],
              "type": "struct"
             },
             "type": "udt"
            }
           },
           {
            "metadata": {},
            "name": "class",
            "nullable": true,
            "type": "string"
           },
           {
            "metadata": {
             "ml_attr": {
              "name": "label",
              "type": "nominal",
              "vals": [
               "Iris-setosa",
               "Iris-versicolor",
               "Iris-virginica"
              ]
             }
            },
            "name": "label",
            "nullable": false,
            "type": "double"
           }
          ],
          "type": "struct"
         },
         "tableIdentifier": null,
         "typeStr": "pyspark.sql.dataframe.DataFrame"
        }
       ],
       "removedWidgets": [],
       "type": "html"
      }
     },
     "output_type": "display_data"
    }
   ],
   "source": [
    "data_with_original_label=data"
   ]
  },
  {
   "cell_type": "code",
   "execution_count": 0,
   "metadata": {
    "application/vnd.databricks.v1+cell": {
     "inputWidgets": {},
     "nuid": "0e0f1a79-79de-4935-90f0-c74d79058a1d",
     "showTitle": false,
     "title": ""
    }
   },
   "outputs": [
    {
     "data": {
      "text/html": [
       "<style scoped>\n",
       "  .ansiout {\n",
       "    display: block;\n",
       "    unicode-bidi: embed;\n",
       "    white-space: pre-wrap;\n",
       "    word-wrap: break-word;\n",
       "    word-break: break-all;\n",
       "    font-family: \"Source Code Pro\", \"Menlo\", monospace;;\n",
       "    font-size: 13px;\n",
       "    color: #555;\n",
       "    margin-left: 4px;\n",
       "    line-height: 19px;\n",
       "  }\n",
       "</style>\n",
       "<div class=\"ansiout\">+--------------------+-----+\n",
       "            features|label|\n",
       "+--------------------+-----+\n",
       "[5.09999990463256...|  0.0|\n",
       "[4.90000009536743...|  0.0|\n",
       "[4.69999980926513...|  0.0|\n",
       "[4.59999990463256...|  0.0|\n",
       "[5.0,3.5999999046...|  0.0|\n",
       "[5.40000009536743...|  0.0|\n",
       "[4.59999990463256...|  0.0|\n",
       "[5.0,3.4000000953...|  0.0|\n",
       "[4.40000009536743...|  0.0|\n",
       "[4.90000009536743...|  0.0|\n",
       "+--------------------+-----+\n",
       "only showing top 10 rows\n",
       "\n",
       "</div>"
      ]
     },
     "metadata": {
      "application/vnd.databricks.v1+output": {
       "addedWidgets": {},
       "arguments": {},
       "data": "<div class=\"ansiout\">+--------------------+-----+\n|            features|label|\n+--------------------+-----+\n|[5.09999990463256...|  0.0|\n|[4.90000009536743...|  0.0|\n|[4.69999980926513...|  0.0|\n|[4.59999990463256...|  0.0|\n|[5.0,3.5999999046...|  0.0|\n|[5.40000009536743...|  0.0|\n|[4.59999990463256...|  0.0|\n|[5.0,3.4000000953...|  0.0|\n|[4.40000009536743...|  0.0|\n|[4.90000009536743...|  0.0|\n+--------------------+-----+\nonly showing top 10 rows\n\n</div>",
       "datasetInfos": [
        {
         "name": "data",
         "schema": {
          "fields": [
           {
            "metadata": {
             "ml_attr": {
              "attrs": {
               "numeric": [
                {
                 "idx": 0,
                 "name": "sepal_length"
                },
                {
                 "idx": 1,
                 "name": "sepal_width"
                },
                {
                 "idx": 2,
                 "name": "petal_length"
                },
                {
                 "idx": 3,
                 "name": "petal_width"
                }
               ]
              },
              "num_attrs": 4
             }
            },
            "name": "features",
            "nullable": true,
            "type": {
             "class": "org.apache.spark.ml.linalg.VectorUDT",
             "pyClass": "pyspark.ml.linalg.VectorUDT",
             "sqlType": {
              "fields": [
               {
                "metadata": {},
                "name": "type",
                "nullable": false,
                "type": "byte"
               },
               {
                "metadata": {},
                "name": "size",
                "nullable": true,
                "type": "integer"
               },
               {
                "metadata": {},
                "name": "indices",
                "nullable": true,
                "type": {
                 "containsNull": false,
                 "elementType": "integer",
                 "type": "array"
                }
               },
               {
                "metadata": {},
                "name": "values",
                "nullable": true,
                "type": {
                 "containsNull": false,
                 "elementType": "double",
                 "type": "array"
                }
               }
              ],
              "type": "struct"
             },
             "type": "udt"
            }
           },
           {
            "metadata": {
             "ml_attr": {
              "name": "label",
              "type": "nominal",
              "vals": [
               "Iris-setosa",
               "Iris-versicolor",
               "Iris-virginica"
              ]
             }
            },
            "name": "label",
            "nullable": false,
            "type": "double"
           }
          ],
          "type": "struct"
         },
         "tableIdentifier": null,
         "typeStr": "pyspark.sql.dataframe.DataFrame"
        }
       ],
       "removedWidgets": [],
       "type": "html"
      }
     },
     "output_type": "display_data"
    }
   ],
   "source": [
    "# only select the features and label column\n",
    "data = data.select(['features', 'label'])\n",
    "data.show(10)"
   ]
  },
  {
   "cell_type": "code",
   "execution_count": 0,
   "metadata": {
    "application/vnd.databricks.v1+cell": {
     "inputWidgets": {},
     "nuid": "1af5c3b1-7187-4fac-9b1c-120e14ee9eb6",
     "showTitle": false,
     "title": ""
    }
   },
   "outputs": [
    {
     "data": {
      "text/html": [
       "<style scoped>\n",
       "  .ansiout {\n",
       "    display: block;\n",
       "    unicode-bidi: embed;\n",
       "    white-space: pre-wrap;\n",
       "    word-wrap: break-word;\n",
       "    word-break: break-all;\n",
       "    font-family: \"Source Code Pro\", \"Menlo\", monospace;;\n",
       "    font-size: 13px;\n",
       "    color: #555;\n",
       "    margin-left: 4px;\n",
       "    line-height: 19px;\n",
       "  }\n",
       "</style>\n",
       "<div class=\"ansiout\"></div>"
      ]
     },
     "metadata": {
      "application/vnd.databricks.v1+output": {
       "addedWidgets": {},
       "arguments": {},
       "data": "<div class=\"ansiout\"></div>",
       "datasetInfos": [],
       "removedWidgets": [],
       "type": "html"
      }
     },
     "output_type": "display_data"
    }
   ],
   "source": [
    "# change regularization rate and you will likely get a different accuracy\n",
    "reg=1e5\n",
    "lr = pyspark.ml.classification.LogisticRegression(regParam=reg)\n",
    "model = lr.fit(data)"
   ]
  },
  {
   "cell_type": "code",
   "execution_count": 0,
   "metadata": {
    "application/vnd.databricks.v1+cell": {
     "inputWidgets": {},
     "nuid": "ca1df799-58bb-4b8e-b943-9c6c16fc88bc",
     "showTitle": false,
     "title": ""
    }
   },
   "outputs": [
    {
     "data": {
      "text/html": [
       "<style scoped>\n",
       "  .ansiout {\n",
       "    display: block;\n",
       "    unicode-bidi: embed;\n",
       "    white-space: pre-wrap;\n",
       "    word-wrap: break-word;\n",
       "    word-break: break-all;\n",
       "    font-family: \"Source Code Pro\", \"Menlo\", monospace;;\n",
       "    font-size: 13px;\n",
       "    color: #555;\n",
       "    margin-left: 4px;\n",
       "    line-height: 19px;\n",
       "  }\n",
       "</style>\n",
       "<div class=\"ansiout\">Prediction\n",
       "+------------+-----------+------------+-----------+-----------------+--------------------+--------------------+----------+\n",
       "sepal_length|sepal_width|petal_length|petal_width|         features|       rawPrediction|         probability|prediction|\n",
       "+------------+-----------+------------+-----------+-----------------+--------------------+--------------------+----------+\n",
       "         5.1|        3.5|         1.4|        0.2|[5.1,3.5,1.4,0.2]|[1.71539473284853...|[0.33333905133851...|       0.0|\n",
       "         6.2|        3.4|         5.4|        2.3|[6.2,3.4,5.4,2.3]|[-9.2706280312180...|[0.33333024312886...|       2.0|\n",
       "+------------+-----------+------------+-----------+-----------------+--------------------+--------------------+----------+\n",
       "\n",
       "</div>"
      ]
     },
     "metadata": {
      "application/vnd.databricks.v1+output": {
       "addedWidgets": {},
       "arguments": {},
       "data": "<div class=\"ansiout\">Prediction\n+------------+-----------+------------+-----------+-----------------+--------------------+--------------------+----------+\n|sepal_length|sepal_width|petal_length|petal_width|         features|       rawPrediction|         probability|prediction|\n+------------+-----------+------------+-----------+-----------------+--------------------+--------------------+----------+\n|         5.1|        3.5|         1.4|        0.2|[5.1,3.5,1.4,0.2]|[1.71539473284853...|[0.33333905133851...|       0.0|\n|         6.2|        3.4|         5.4|        2.3|[6.2,3.4,5.4,2.3]|[-9.2706280312180...|[0.33333024312886...|       2.0|\n+------------+-----------+------------+-----------+-----------------+--------------------+--------------------+----------+\n\n</div>",
       "datasetInfos": [
        {
         "name": "prediction",
         "schema": {
          "fields": [
           {
            "metadata": {},
            "name": "sepal_length",
            "nullable": true,
            "type": "double"
           },
           {
            "metadata": {},
            "name": "sepal_width",
            "nullable": true,
            "type": "double"
           },
           {
            "metadata": {},
            "name": "petal_length",
            "nullable": true,
            "type": "double"
           },
           {
            "metadata": {},
            "name": "petal_width",
            "nullable": true,
            "type": "double"
           },
           {
            "metadata": {
             "ml_attr": {
              "attrs": {
               "numeric": [
                {
                 "idx": 0,
                 "name": "sepal_length"
                },
                {
                 "idx": 1,
                 "name": "sepal_width"
                },
                {
                 "idx": 2,
                 "name": "petal_length"
                },
                {
                 "idx": 3,
                 "name": "petal_width"
                }
               ]
              },
              "num_attrs": 4
             }
            },
            "name": "features",
            "nullable": true,
            "type": {
             "class": "org.apache.spark.ml.linalg.VectorUDT",
             "pyClass": "pyspark.ml.linalg.VectorUDT",
             "sqlType": {
              "fields": [
               {
                "metadata": {},
                "name": "type",
                "nullable": false,
                "type": "byte"
               },
               {
                "metadata": {},
                "name": "size",
                "nullable": true,
                "type": "integer"
               },
               {
                "metadata": {},
                "name": "indices",
                "nullable": true,
                "type": {
                 "containsNull": false,
                 "elementType": "integer",
                 "type": "array"
                }
               },
               {
                "metadata": {},
                "name": "values",
                "nullable": true,
                "type": {
                 "containsNull": false,
                 "elementType": "double",
                 "type": "array"
                }
               }
              ],
              "type": "struct"
             },
             "type": "udt"
            }
           },
           {
            "metadata": {
             "ml_attr": {
              "num_attrs": 3
             }
            },
            "name": "rawPrediction",
            "nullable": true,
            "type": {
             "class": "org.apache.spark.ml.linalg.VectorUDT",
             "pyClass": "pyspark.ml.linalg.VectorUDT",
             "sqlType": {
              "fields": [
               {
                "metadata": {},
                "name": "type",
                "nullable": false,
                "type": "byte"
               },
               {
                "metadata": {},
                "name": "size",
                "nullable": true,
                "type": "integer"
               },
               {
                "metadata": {},
                "name": "indices",
                "nullable": true,
                "type": {
                 "containsNull": false,
                 "elementType": "integer",
                 "type": "array"
                }
               },
               {
                "metadata": {},
                "name": "values",
                "nullable": true,
                "type": {
                 "containsNull": false,
                 "elementType": "double",
                 "type": "array"
                }
               }
              ],
              "type": "struct"
             },
             "type": "udt"
            }
           },
           {
            "metadata": {
             "ml_attr": {
              "num_attrs": 3
             }
            },
            "name": "probability",
            "nullable": true,
            "type": {
             "class": "org.apache.spark.ml.linalg.VectorUDT",
             "pyClass": "pyspark.ml.linalg.VectorUDT",
             "sqlType": {
              "fields": [
               {
                "metadata": {},
                "name": "type",
                "nullable": false,
                "type": "byte"
               },
               {
                "metadata": {},
                "name": "size",
                "nullable": true,
                "type": "integer"
               },
               {
                "metadata": {},
                "name": "indices",
                "nullable": true,
                "type": {
                 "containsNull": false,
                 "elementType": "integer",
                 "type": "array"
                }
               },
               {
                "metadata": {},
                "name": "values",
                "nullable": true,
                "type": {
                 "containsNull": false,
                 "elementType": "double",
                 "type": "array"
                }
               }
              ],
              "type": "struct"
             },
             "type": "udt"
            }
           },
           {
            "metadata": {
             "ml_attr": {
              "num_vals": 3,
              "type": "nominal"
             }
            },
            "name": "prediction",
            "nullable": false,
            "type": "double"
           }
          ],
          "type": "struct"
         },
         "tableIdentifier": null,
         "typeStr": "pyspark.sql.dataframe.DataFrame"
        }
       ],
       "removedWidgets": [],
       "type": "html"
      }
     },
     "output_type": "display_data"
    }
   ],
   "source": [
    "# predict on the test set\n",
    "prediction = model.transform(test_data)\n",
    "print(\"Prediction\")\n",
    "prediction.show(10)"
   ]
  },
  {
   "cell_type": "code",
   "execution_count": 0,
   "metadata": {
    "application/vnd.databricks.v1+cell": {
     "inputWidgets": {},
     "nuid": "252bcb93-e8c9-4a4d-92b5-7022d23094cf",
     "showTitle": false,
     "title": ""
    }
   },
   "outputs": [
    {
     "data": {
      "text/html": [
       "<style scoped>\n",
       "  .ansiout {\n",
       "    display: block;\n",
       "    unicode-bidi: embed;\n",
       "    white-space: pre-wrap;\n",
       "    word-wrap: break-word;\n",
       "    word-break: break-all;\n",
       "    font-family: \"Source Code Pro\", \"Menlo\", monospace;;\n",
       "    font-size: 13px;\n",
       "    color: #555;\n",
       "    margin-left: 4px;\n",
       "    line-height: 19px;\n",
       "  }\n",
       "</style>\n",
       "<div class=\"ansiout\">+---------------+-----+\n",
       "          class|label|\n",
       "+---------------+-----+\n",
       "    Iris-setosa|  0.0|\n",
       " Iris-virginica|  2.0|\n",
       "Iris-versicolor|  1.0|\n",
       "+---------------+-----+\n",
       "\n",
       "</div>"
      ]
     },
     "metadata": {
      "application/vnd.databricks.v1+output": {
       "addedWidgets": {},
       "arguments": {},
       "data": "<div class=\"ansiout\">+---------------+-----+\n|          class|label|\n+---------------+-----+\n|    Iris-setosa|  0.0|\n| Iris-virginica|  2.0|\n|Iris-versicolor|  1.0|\n+---------------+-----+\n\n</div>",
       "datasetInfos": [],
       "removedWidgets": [],
       "type": "html"
      }
     },
     "output_type": "display_data"
    }
   ],
   "source": [
    "data_with_original_label.select(['class','label']).distinct().show()"
   ]
  }
 ],
 "metadata": {
  "application/vnd.databricks.v1+notebook": {
   "dashboards": [],
   "language": "python",
   "notebookName": "binary-trainer-aml-mlflow_latest_data",
   "notebookOrigID": 1226316189011252,
   "widgets": {}
  },
  "kernelspec": {
   "display_name": "Python 3",
   "language": "python",
   "name": "python3"
  },
  "language_info": {
   "codemirror_mode": {
    "name": "ipython",
    "version": 3
   },
   "file_extension": ".py",
   "mimetype": "text/x-python",
   "name": "python",
   "nbconvert_exporter": "python",
   "pygments_lexer": "ipython3",
   "version": "3.7.1"
  }
 },
 "nbformat": 4,
 "nbformat_minor": 1
}
