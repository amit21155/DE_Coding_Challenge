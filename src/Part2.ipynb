{
 "cells": [
  {
   "cell_type": "markdown",
   "metadata": {
    "application/vnd.databricks.v1+cell": {
     "inputWidgets": {},
     "nuid": "9990bd6a-0110-433a-92be-0bb722e24909",
     "showTitle": false,
     "title": ""
    }
   },
   "source": [
    "Part 2: Spark Dataframe API Now, let's turn our attention to Spark's Dataframe API. For this purpose, we will be leveraging a cleaned up, smaller version of the AirBnB data set."
   ]
  },
  {
   "cell_type": "code",
   "execution_count": 0,
   "metadata": {
    "application/vnd.databricks.v1+cell": {
     "inputWidgets": {},
     "nuid": "f7c08a41-b4a3-4bed-af0a-4cc5f5de7a76",
     "showTitle": false,
     "title": ""
    }
   },
   "outputs": [
    {
     "data": {
      "text/html": [
       "<style scoped>\n",
       "  .ansiout {\n",
       "    display: block;\n",
       "    unicode-bidi: embed;\n",
       "    white-space: pre-wrap;\n",
       "    word-wrap: break-word;\n",
       "    word-break: break-all;\n",
       "    font-family: \"Source Code Pro\", \"Menlo\", monospace;;\n",
       "    font-size: 13px;\n",
       "    color: #555;\n",
       "    margin-left: 4px;\n",
       "    line-height: 19px;\n",
       "  }\n",
       "</style>\n",
       "<div class=\"ansiout\"></div>"
      ]
     },
     "metadata": {
      "application/vnd.databricks.v1+output": {
       "addedWidgets": {},
       "arguments": {},
       "data": "<div class=\"ansiout\"></div>",
       "datasetInfos": [],
       "removedWidgets": [],
       "type": "html"
      }
     },
     "output_type": "display_data"
    }
   ],
   "source": [
    "# Import necessary packages and modules\n",
    "\n",
    "import time\n",
    "import pandas as pd\n",
    "import numpy as np\n",
    "import datetime as datetime\n",
    "from datetime import timedelta\n",
    "import databricks.koalas as ks\n",
    "import matplotlib.pyplot as plt\n",
    "import seaborn as sns\n",
    "from pyspark.ml.stat import Correlation\n",
    "import pyspark.sql.functions as f\n",
    "from pyspark.sql.functions import *"
   ]
  },
  {
   "cell_type": "markdown",
   "metadata": {},
   "source": [
    "Task 1\n",
    "Download the parquet data file from this URL:"
   ]
  },
  {
   "cell_type": "code",
   "execution_count": 0,
   "metadata": {
    "application/vnd.databricks.v1+cell": {
     "inputWidgets": {},
     "nuid": "bd801543-ae92-4d92-8c32-1a1e62b4fc6f",
     "showTitle": false,
     "title": ""
    }
   },
   "outputs": [
    {
     "data": {
      "text/html": [
       "<style scoped>\n",
       "  .ansiout {\n",
       "    display: block;\n",
       "    unicode-bidi: embed;\n",
       "    white-space: pre-wrap;\n",
       "    word-wrap: break-word;\n",
       "    word-break: break-all;\n",
       "    font-family: \"Source Code Pro\", \"Menlo\", monospace;;\n",
       "    font-size: 13px;\n",
       "    color: #555;\n",
       "    margin-left: 4px;\n",
       "    line-height: 19px;\n",
       "  }\n",
       "</style>\n",
       "<div class=\"ansiout\"></div>"
      ]
     },
     "metadata": {
      "application/vnd.databricks.v1+output": {
       "addedWidgets": {},
       "arguments": {},
       "data": "<div class=\"ansiout\"></div>",
       "datasetInfos": [
        {
         "name": "df",
         "schema": {
          "fields": [
           {
            "metadata": {},
            "name": "host_is_superhost",
            "nullable": true,
            "type": "string"
           },
           {
            "metadata": {},
            "name": "cancellation_policy",
            "nullable": true,
            "type": "string"
           },
           {
            "metadata": {},
            "name": "instant_bookable",
            "nullable": true,
            "type": "string"
           },
           {
            "metadata": {},
            "name": "host_total_listings_count",
            "nullable": true,
            "type": "double"
           },
           {
            "metadata": {},
            "name": "neighbourhood_cleansed",
            "nullable": true,
            "type": "string"
           },
           {
            "metadata": {},
            "name": "latitude",
            "nullable": true,
            "type": "double"
           },
           {
            "metadata": {},
            "name": "longitude",
            "nullable": true,
            "type": "double"
           },
           {
            "metadata": {},
            "name": "property_type",
            "nullable": true,
            "type": "string"
           },
           {
            "metadata": {},
            "name": "room_type",
            "nullable": true,
            "type": "string"
           },
           {
            "metadata": {},
            "name": "accommodates",
            "nullable": true,
            "type": "double"
           },
           {
            "metadata": {},
            "name": "bathrooms",
            "nullable": true,
            "type": "double"
           },
           {
            "metadata": {},
            "name": "bedrooms",
            "nullable": true,
            "type": "double"
           },
           {
            "metadata": {},
            "name": "beds",
            "nullable": true,
            "type": "double"
           },
           {
            "metadata": {},
            "name": "bed_type",
            "nullable": true,
            "type": "string"
           },
           {
            "metadata": {},
            "name": "minimum_nights",
            "nullable": true,
            "type": "double"
           },
           {
            "metadata": {},
            "name": "number_of_reviews",
            "nullable": true,
            "type": "double"
           },
           {
            "metadata": {},
            "name": "review_scores_rating",
            "nullable": true,
            "type": "double"
           },
           {
            "metadata": {},
            "name": "review_scores_accuracy",
            "nullable": true,
            "type": "double"
           },
           {
            "metadata": {},
            "name": "review_scores_cleanliness",
            "nullable": true,
            "type": "double"
           },
           {
            "metadata": {},
            "name": "review_scores_checkin",
            "nullable": true,
            "type": "double"
           },
           {
            "metadata": {},
            "name": "review_scores_communication",
            "nullable": true,
            "type": "double"
           },
           {
            "metadata": {},
            "name": "review_scores_location",
            "nullable": true,
            "type": "double"
           },
           {
            "metadata": {},
            "name": "review_scores_value",
            "nullable": true,
            "type": "double"
           },
           {
            "metadata": {},
            "name": "price",
            "nullable": true,
            "type": "double"
           },
           {
            "metadata": {},
            "name": "bedrooms_na",
            "nullable": true,
            "type": "double"
           },
           {
            "metadata": {},
            "name": "bathrooms_na",
            "nullable": true,
            "type": "double"
           },
           {
            "metadata": {},
            "name": "beds_na",
            "nullable": true,
            "type": "double"
           },
           {
            "metadata": {},
            "name": "review_scores_rating_na",
            "nullable": true,
            "type": "double"
           },
           {
            "metadata": {},
            "name": "review_scores_accuracy_na",
            "nullable": true,
            "type": "double"
           },
           {
            "metadata": {},
            "name": "review_scores_cleanliness_na",
            "nullable": true,
            "type": "double"
           },
           {
            "metadata": {},
            "name": "review_scores_checkin_na",
            "nullable": true,
            "type": "double"
           },
           {
            "metadata": {},
            "name": "review_scores_communication_na",
            "nullable": true,
            "type": "double"
           },
           {
            "metadata": {},
            "name": "review_scores_location_na",
            "nullable": true,
            "type": "double"
           },
           {
            "metadata": {},
            "name": "review_scores_value_na",
            "nullable": true,
            "type": "double"
           }
          ],
          "type": "struct"
         },
         "tableIdentifier": null,
         "typeStr": "pyspark.sql.dataframe.DataFrame"
        }
       ],
       "removedWidgets": [],
       "type": "html"
      }
     },
     "output_type": "display_data"
    }
   ],
   "source": [
    "df = spark.read.format(\"parquet\")\\\n",
    ".option(\"header\", \"true\") \\\n",
    ".load(\"/test/sf-airbnb-clean\")"
   ]
  },
  {
   "cell_type": "code",
   "execution_count": 0,
   "metadata": {
    "application/vnd.databricks.v1+cell": {
     "inputWidgets": {},
     "nuid": "f67d8ff5-6c2c-4bd7-90fb-60ff43693387",
     "showTitle": false,
     "title": ""
    }
   },
   "outputs": [
    {
     "data": {
      "text/html": [
       "<style scoped>\n",
       "  .ansiout {\n",
       "    display: block;\n",
       "    unicode-bidi: embed;\n",
       "    white-space: pre-wrap;\n",
       "    word-wrap: break-word;\n",
       "    word-break: break-all;\n",
       "    font-family: \"Source Code Pro\", \"Menlo\", monospace;;\n",
       "    font-size: 13px;\n",
       "    color: #555;\n",
       "    margin-left: 4px;\n",
       "    line-height: 19px;\n",
       "  }\n",
       "</style>\n",
       "<div class=\"ansiout\">Out[142]: [&#39;host_is_superhost&#39;,\n",
       " &#39;cancellation_policy&#39;,\n",
       " &#39;instant_bookable&#39;,\n",
       " &#39;host_total_listings_count&#39;,\n",
       " &#39;neighbourhood_cleansed&#39;,\n",
       " &#39;latitude&#39;,\n",
       " &#39;longitude&#39;,\n",
       " &#39;property_type&#39;,\n",
       " &#39;room_type&#39;,\n",
       " &#39;accommodates&#39;,\n",
       " &#39;bathrooms&#39;,\n",
       " &#39;bedrooms&#39;,\n",
       " &#39;beds&#39;,\n",
       " &#39;bed_type&#39;,\n",
       " &#39;minimum_nights&#39;,\n",
       " &#39;number_of_reviews&#39;,\n",
       " &#39;review_scores_rating&#39;,\n",
       " &#39;review_scores_accuracy&#39;,\n",
       " &#39;review_scores_cleanliness&#39;,\n",
       " &#39;review_scores_checkin&#39;,\n",
       " &#39;review_scores_communication&#39;,\n",
       " &#39;review_scores_location&#39;,\n",
       " &#39;review_scores_value&#39;,\n",
       " &#39;price&#39;,\n",
       " &#39;bedrooms_na&#39;,\n",
       " &#39;bathrooms_na&#39;,\n",
       " &#39;beds_na&#39;,\n",
       " &#39;review_scores_rating_na&#39;,\n",
       " &#39;review_scores_accuracy_na&#39;,\n",
       " &#39;review_scores_cleanliness_na&#39;,\n",
       " &#39;review_scores_checkin_na&#39;,\n",
       " &#39;review_scores_communication_na&#39;,\n",
       " &#39;review_scores_location_na&#39;,\n",
       " &#39;review_scores_value_na&#39;]</div>"
      ]
     },
     "metadata": {
      "application/vnd.databricks.v1+output": {
       "addedWidgets": {},
       "arguments": {},
       "data": "<div class=\"ansiout\">Out[142]: [&#39;host_is_superhost&#39;,\n &#39;cancellation_policy&#39;,\n &#39;instant_bookable&#39;,\n &#39;host_total_listings_count&#39;,\n &#39;neighbourhood_cleansed&#39;,\n &#39;latitude&#39;,\n &#39;longitude&#39;,\n &#39;property_type&#39;,\n &#39;room_type&#39;,\n &#39;accommodates&#39;,\n &#39;bathrooms&#39;,\n &#39;bedrooms&#39;,\n &#39;beds&#39;,\n &#39;bed_type&#39;,\n &#39;minimum_nights&#39;,\n &#39;number_of_reviews&#39;,\n &#39;review_scores_rating&#39;,\n &#39;review_scores_accuracy&#39;,\n &#39;review_scores_cleanliness&#39;,\n &#39;review_scores_checkin&#39;,\n &#39;review_scores_communication&#39;,\n &#39;review_scores_location&#39;,\n &#39;review_scores_value&#39;,\n &#39;price&#39;,\n &#39;bedrooms_na&#39;,\n &#39;bathrooms_na&#39;,\n &#39;beds_na&#39;,\n &#39;review_scores_rating_na&#39;,\n &#39;review_scores_accuracy_na&#39;,\n &#39;review_scores_cleanliness_na&#39;,\n &#39;review_scores_checkin_na&#39;,\n &#39;review_scores_communication_na&#39;,\n &#39;review_scores_location_na&#39;,\n &#39;review_scores_value_na&#39;]</div>",
       "datasetInfos": [],
       "removedWidgets": [],
       "type": "html"
      }
     },
     "output_type": "display_data"
    }
   ],
   "source": [
    "df.columns"
   ]
  },
  {
   "cell_type": "code",
   "execution_count": 0,
   "metadata": {
    "application/vnd.databricks.v1+cell": {
     "inputWidgets": {},
     "nuid": "33f62ba3-a060-4c54-88e5-615688357a34",
     "showTitle": false,
     "title": ""
    }
   },
   "outputs": [
    {
     "data": {
      "text/html": [
       "<style scoped>\n",
       "  .ansiout {\n",
       "    display: block;\n",
       "    unicode-bidi: embed;\n",
       "    white-space: pre-wrap;\n",
       "    word-wrap: break-word;\n",
       "    word-break: break-all;\n",
       "    font-family: \"Source Code Pro\", \"Menlo\", monospace;;\n",
       "    font-size: 13px;\n",
       "    color: #555;\n",
       "    margin-left: 4px;\n",
       "    line-height: 19px;\n",
       "  }\n",
       "</style>\n",
       "<div class=\"ansiout\">/databricks/spark/python/pyspark/sql/dataframe.py:142: DeprecationWarning: Deprecated in 2.0, use createOrReplaceTempView instead.\n",
       "  &#34;Deprecated in 2.0, use createOrReplaceTempView instead.&#34;, DeprecationWarning)\n",
       "</div>"
      ]
     },
     "metadata": {
      "application/vnd.databricks.v1+output": {
       "addedWidgets": {},
       "arguments": {},
       "data": "<div class=\"ansiout\">/databricks/spark/python/pyspark/sql/dataframe.py:142: DeprecationWarning: Deprecated in 2.0, use createOrReplaceTempView instead.\n  &#34;Deprecated in 2.0, use createOrReplaceTempView instead.&#34;, DeprecationWarning)\n</div>",
       "datasetInfos": [],
       "removedWidgets": [],
       "type": "html"
      }
     },
     "output_type": "display_data"
    }
   ],
   "source": [
    "# converting pyspark df into table\n",
    "df.registerTempTable('df_table')"
   ]
  },
  {
   "cell_type": "markdown",
   "metadata": {},
   "source": [
    "Task 2\n",
    "Create CSV output file under out/out_2_2.txt that lists the minimum price, maximum price, and total row count from this data set. Use the following output column names in your resultant file:"
   ]
  },
  {
   "cell_type": "code",
   "execution_count": 0,
   "metadata": {
    "application/vnd.databricks.v1+cell": {
     "inputWidgets": {},
     "nuid": "72a5333a-ada9-4c22-a4b1-6ec7fdd83d49",
     "showTitle": false,
     "title": ""
    }
   },
   "outputs": [
    {
     "data": {
      "text/html": [
       "<style scoped>\n",
       "  .table-result-container {\n",
       "    max-height: 300px;\n",
       "    overflow: auto;\n",
       "  }\n",
       "  table, th, td {\n",
       "    border: 1px solid black;\n",
       "    border-collapse: collapse;\n",
       "  }\n",
       "  th, td {\n",
       "    padding: 5px;\n",
       "  }\n",
       "  th {\n",
       "    text-align: left;\n",
       "  }\n",
       "</style><div class='table-result-container'><table class='table-result'><thead style='background-color: white'><tr><th>min_Price</th><th>max_Price</th><th>row_count</th></tr></thead><tbody><tr><td>10.0</td><td>10000.0</td><td>7146</td></tr></tbody></table></div>"
      ]
     },
     "metadata": {
      "application/vnd.databricks.v1+output": {
       "addedWidgets": {},
       "aggData": [],
       "aggError": "",
       "aggOverflow": false,
       "aggSchema": [],
       "aggSeriesLimitReached": false,
       "aggType": "",
       "arguments": {},
       "columnCustomDisplayInfos": {},
       "data": [
        [
         10,
         10000,
         7146
        ]
       ],
       "datasetInfos": [],
       "dbfsResultPath": null,
       "isJsonSchema": true,
       "overflow": false,
       "plotOptions": {
        "customPlotOptions": {},
        "displayType": "table",
        "pivotAggregation": null,
        "pivotColumns": null,
        "xColumns": null,
        "yColumns": null
       },
       "removedWidgets": [],
       "schema": [
        {
         "metadata": "{}",
         "name": "min_Price",
         "type": "\"double\""
        },
        {
         "metadata": "{}",
         "name": "max_Price",
         "type": "\"double\""
        },
        {
         "metadata": "{}",
         "name": "row_count",
         "type": "\"long\""
        }
       ],
       "type": "table"
      }
     },
     "output_type": "display_data"
    }
   ],
   "source": [
    "%sql select min(price) as min_Price, max(price) as max_Price, count(*) as row_count  from df_table"
   ]
  },
  {
   "cell_type": "markdown",
   "metadata": {},
   "source": [
    "Task 3\n",
    "Calculate the average number of bathrooms and bedrooms across all the properties listed in this data set with a price of > 5000 and a review score being exactly equalt to 10."
   ]
  },
  {
   "cell_type": "code",
   "execution_count": 0,
   "metadata": {
    "application/vnd.databricks.v1+cell": {
     "inputWidgets": {},
     "nuid": "3a6dea56-6e95-4659-984b-9f8aca76310c",
     "showTitle": false,
     "title": ""
    }
   },
   "outputs": [
    {
     "data": {
      "text/html": [
       "<style scoped>\n",
       "  .table-result-container {\n",
       "    max-height: 300px;\n",
       "    overflow: auto;\n",
       "  }\n",
       "  table, th, td {\n",
       "    border: 1px solid black;\n",
       "    border-collapse: collapse;\n",
       "  }\n",
       "  th, td {\n",
       "    padding: 5px;\n",
       "  }\n",
       "  th {\n",
       "    text-align: left;\n",
       "  }\n",
       "</style><div class='table-result-container'><table class='table-result'><thead style='background-color: white'><tr><th>avg_bathrooms</th><th>avg_bedrooms</th></tr></thead><tbody><tr><td>2.375</td><td>3.0</td></tr></tbody></table></div>"
      ]
     },
     "metadata": {
      "application/vnd.databricks.v1+output": {
       "addedWidgets": {},
       "aggData": [],
       "aggError": "",
       "aggOverflow": false,
       "aggSchema": [],
       "aggSeriesLimitReached": false,
       "aggType": "",
       "arguments": {},
       "columnCustomDisplayInfos": {},
       "data": [
        [
         2.375,
         3
        ]
       ],
       "datasetInfos": [],
       "dbfsResultPath": null,
       "isJsonSchema": true,
       "overflow": false,
       "plotOptions": {
        "customPlotOptions": {},
        "displayType": "table",
        "pivotAggregation": null,
        "pivotColumns": null,
        "xColumns": null,
        "yColumns": null
       },
       "removedWidgets": [],
       "schema": [
        {
         "metadata": "{}",
         "name": "avg_bathrooms",
         "type": "\"double\""
        },
        {
         "metadata": "{}",
         "name": "avg_bedrooms",
         "type": "\"double\""
        }
       ],
       "type": "table"
      }
     },
     "output_type": "display_data"
    }
   ],
   "source": [
    "%sql select avg(bathrooms) as avg_bathrooms, avg(bedrooms) as avg_bedrooms from df_table where price>5000 and review_scores_value=10"
   ]
  },
  {
   "cell_type": "markdown",
   "metadata": {},
   "source": [
    "Task 4\n",
    "How many people can be accomodated by the property with the lowest price and highest rating?"
   ]
  },
  {
   "cell_type": "code",
   "execution_count": 0,
   "metadata": {
    "application/vnd.databricks.v1+cell": {
     "inputWidgets": {},
     "nuid": "4642c28a-a785-4e4b-b444-25f07ce88e4e",
     "showTitle": false,
     "title": ""
    }
   },
   "outputs": [
    {
     "data": {
      "text/html": [
       "<style scoped>\n",
       "  .table-result-container {\n",
       "    max-height: 300px;\n",
       "    overflow: auto;\n",
       "  }\n",
       "  table, th, td {\n",
       "    border: 1px solid black;\n",
       "    border-collapse: collapse;\n",
       "  }\n",
       "  th, td {\n",
       "    padding: 5px;\n",
       "  }\n",
       "  th {\n",
       "    text-align: left;\n",
       "  }\n",
       "</style><div class='table-result-container'><table class='table-result'><thead style='background-color: white'><tr><th>host_total_listings_count</th><th>price</th><th>review_scores_rating</th></tr></thead><tbody><tr><td>1.0</td><td>10.0</td><td>100.0</td></tr></tbody></table></div>"
      ]
     },
     "metadata": {
      "application/vnd.databricks.v1+output": {
       "addedWidgets": {},
       "aggData": [],
       "aggError": "",
       "aggOverflow": false,
       "aggSchema": [],
       "aggSeriesLimitReached": false,
       "aggType": "",
       "arguments": {},
       "columnCustomDisplayInfos": {},
       "data": [
        [
         1,
         10,
         100
        ]
       ],
       "datasetInfos": [],
       "dbfsResultPath": null,
       "isJsonSchema": true,
       "overflow": false,
       "plotOptions": {
        "customPlotOptions": {},
        "displayType": "table",
        "pivotAggregation": null,
        "pivotColumns": null,
        "xColumns": null,
        "yColumns": null
       },
       "removedWidgets": [],
       "schema": [
        {
         "metadata": "{}",
         "name": "host_total_listings_count",
         "type": "\"double\""
        },
        {
         "metadata": "{}",
         "name": "price",
         "type": "\"double\""
        },
        {
         "metadata": "{}",
         "name": "review_scores_rating",
         "type": "\"double\""
        }
       ],
       "type": "table"
      }
     },
     "output_type": "display_data"
    }
   ],
   "source": [
    "%sql select host_total_listings_count, price, review_scores_rating from df_table where price =( select min(price) from df_table ) and review_scores_rating = (select max(review_scores_rating) from df_table)"
   ]
  }
 ],
 "metadata": {
  "application/vnd.databricks.v1+notebook": {
   "dashboards": [],
   "language": "python",
   "notebookName": "binary-trainer-aml-mlflow_latest_data",
   "notebookOrigID": 1226316189011252,
   "widgets": {}
  },
  "kernelspec": {
   "display_name": "Python 3",
   "language": "python",
   "name": "python3"
  },
  "language_info": {
   "codemirror_mode": {
    "name": "ipython",
    "version": 3
   },
   "file_extension": ".py",
   "mimetype": "text/x-python",
   "name": "python",
   "nbconvert_exporter": "python",
   "pygments_lexer": "ipython3",
   "version": "3.7.1"
  }
 },
 "nbformat": 4,
 "nbformat_minor": 1
}
